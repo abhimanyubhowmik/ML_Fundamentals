{
  "nbformat": 4,
  "nbformat_minor": 0,
  "metadata": {
    "colab": {
      "name": "Affine Transformations and Eigenvectors.ipynb",
      "provenance": [],
      "authorship_tag": "ABX9TyO1Iir5iLxtbJJyanRHEBRe",
      "include_colab_link": true
    },
    "kernelspec": {
      "name": "python3",
      "display_name": "Python 3"
    },
    "language_info": {
      "name": "python"
    }
  },
  "cells": [
    {
      "cell_type": "markdown",
      "metadata": {
        "id": "view-in-github",
        "colab_type": "text"
      },
      "source": [
        "<a href=\"https://colab.research.google.com/github/abhimanyubhowmik/ML_Fundamentals/blob/main/Linear_Algebra/Affine_Transformations_and_Eigenvectors.ipynb\" target=\"_parent\"><img src=\"https://colab.research.google.com/assets/colab-badge.svg\" alt=\"Open In Colab\"/></a>"
      ]
    },
    {
      "cell_type": "markdown",
      "source": [
        "## Affine Transformations"
      ],
      "metadata": {
        "id": "m2INMBwE4h1Y"
      }
    },
    {
      "cell_type": "code",
      "source": [
        "import numpy as np\n",
        "import matplotlib.pyplot as plt\n",
        "import seaborn as sns\n",
        "import tensorflow as tf\n",
        "import torch"
      ],
      "metadata": {
        "id": "N7eKrSIf4tXt"
      },
      "execution_count": null,
      "outputs": []
    },
    {
      "cell_type": "markdown",
      "source": [
        "Hadrien Jean's `plotVectors()` function from [this notebook](https://github.com/hadrienj/deepLearningBook-Notes/blob/master/2.7%20Eigendecomposition/2.7%20Eigendecomposition.ipynb)."
      ],
      "metadata": {
        "id": "3XxS34hb-GAx"
      }
    },
    {
      "cell_type": "code",
      "source": [
        "\n",
        "def plotVectors(vecs, cols, alpha=1):\n",
        "    \"\"\"\n",
        "    Plot set of vectors.\n",
        "\n",
        "    Parameters\n",
        "    ----------\n",
        "    vecs : array-like\n",
        "        Coordinates of the vectors to plot. Each vectors is in an array. For\n",
        "        instance: [[1, 3], [2, 2]] can be used to plot 2 vectors.\n",
        "    cols : array-like\n",
        "        Colors of the vectors. For instance: ['red', 'blue'] will display the\n",
        "        first vector in red and the second in blue.\n",
        "    alpha : float\n",
        "        Opacity of vectors\n",
        "\n",
        "    Returns:\n",
        "\n",
        "    fig : instance of matplotlib.figure.Figure\n",
        "        The figure of the vectors\n",
        "    \"\"\"\n",
        "    plt.axvline(x=0, color='#A9A9A9', zorder=0)\n",
        "    plt.axhline(y=0, color='#A9A9A9', zorder=0)\n",
        "\n",
        "    for i in range(len(vecs)):\n",
        "        if (isinstance(alpha, list)):\n",
        "            alpha_i = alpha[i]\n",
        "        else:\n",
        "            alpha_i = alpha\n",
        "        x = np.concatenate([[0,0],vecs[i]])\n",
        "        plt.quiver([x[0]],\n",
        "                   [x[1]],\n",
        "                   [x[2]],\n",
        "                   [x[3]],\n",
        "                   angles='xy', scale_units='xy', scale=1, color=cols[i],\n",
        "                  alpha=alpha_i)"
      ],
      "metadata": {
        "id": "gIiVzCjZ7NgT"
      },
      "execution_count": null,
      "outputs": []
    },
    {
      "cell_type": "code",
      "source": [
        "A = np.array([[2,4],[5,6]])\n",
        "x = np.array([3,4])\n",
        "plotVectors([x],['lightgreen'])\n",
        "plt.xlim(-1, 5)\n",
        "plt.ylim(-1, 5)"
      ],
      "metadata": {
        "colab": {
          "base_uri": "https://localhost:8080/",
          "height": 286
        },
        "id": "HQESXLkO-mcQ",
        "outputId": "6512569c-c7fb-40c4-d461-893cecaf7c8a"
      },
      "execution_count": null,
      "outputs": [
        {
          "output_type": "execute_result",
          "data": {
            "text/plain": [
              "(-1.0, 5.0)"
            ]
          },
          "metadata": {},
          "execution_count": 3
        },
        {
          "output_type": "display_data",
          "data": {
            "image/png": "[encoded data removed]",
            "text/plain": [
              "<Figure size 432x288 with 1 Axes>"
            ]
          },
          "metadata": {
            "needs_background": "light"
          }
        }
      ]
    },
    {
      "cell_type": "code",
      "source": [
        "y = np.dot(A,x)"
      ],
      "metadata": {
        "id": "n8RP6JbA_HAA"
      },
      "execution_count": null,
      "outputs": []
    },
    {
      "cell_type": "code",
      "source": [
        "plotVectors([x,y],['lightgreen','green'])\n",
        "plt.xlim(-1, 40)\n",
        "plt.ylim(-1, 40)"
      ],
      "metadata": {
        "colab": {
          "base_uri": "https://localhost:8080/",
          "height": 286
        },
        "id": "H4aQit6-_gPt",
        "outputId": "93aa0aa0-eebe-438f-e79f-85183be030c5"
      },
      "execution_count": null,
      "outputs": [
        {
          "output_type": "execute_result",
          "data": {
            "text/plain": [
              "(-1.0, 40.0)"
            ]
          },
          "metadata": {},
          "execution_count": 5
        },
        {
          "output_type": "display_data",
          "data": {
            "image/png": "[encoded data removed]",
            "text/plain": [
              "<Figure size 432x288 with 1 Axes>"
            ]
          },
          "metadata": {
            "needs_background": "light"
          }
        }
      ]
    },
    {
      "cell_type": "markdown",
      "source": [
        "Flipping vextor over $x$ axis."
      ],
      "metadata": {
        "id": "pIdDEWr-A2uO"
      }
    },
    {
      "cell_type": "code",
      "source": [
        "E = np.array([[1,0],[0,-1]])\n",
        "E"
      ],
      "metadata": {
        "colab": {
          "base_uri": "https://localhost:8080/"
        },
        "id": "FYpgeRWW_uuj",
        "outputId": "8da20f91-e555-463a-c531-660bc13994af"
      },
      "execution_count": null,
      "outputs": [
        {
          "output_type": "execute_result",
          "data": {
            "text/plain": [
              "array([[ 1,  0],\n",
              "       [ 0, -1]])"
            ]
          },
          "metadata": {},
          "execution_count": 6
        }
      ]
    },
    {
      "cell_type": "code",
      "source": [
        "x_ref = np.dot(E,x)\n",
        "plotVectors([x,x_ref],['lightblue','blue'])\n",
        "plt.xlim(-1, 5)\n",
        "plt.ylim(-5, 5)"
      ],
      "metadata": {
        "colab": {
          "base_uri": "https://localhost:8080/",
          "height": 282
        },
        "id": "lZ9yedYTBfuS",
        "outputId": "449ba127-7c24-4be9-a386-b35113fe4d49"
      },
      "execution_count": null,
      "outputs": [
        {
          "output_type": "execute_result",
          "data": {
            "text/plain": [
              "(-5.0, 5.0)"
            ]
          },
          "metadata": {},
          "execution_count": 7
        },
        {
          "output_type": "display_data",
          "data": {
            "image/png": "[encoded data removed]",
            "text/plain": [
              "<Figure size 432x288 with 1 Axes>"
            ]
          },
          "metadata": {
            "needs_background": "light"
          }
        }
      ]
    },
    {
      "cell_type": "markdown",
      "source": [
        "Flipping vextor over $y$ axis."
      ],
      "metadata": {
        "id": "TPFhZKUYMPiA"
      }
    },
    {
      "cell_type": "code",
      "source": [
        "F = np.array([[-1,0],[0,1]])\n",
        "F"
      ],
      "metadata": {
        "colab": {
          "base_uri": "https://localhost:8080/"
        },
        "id": "hvZ0rjqEB90o",
        "outputId": "b10190ad-5b92-4137-fbfa-24baa64c4e00"
      },
      "execution_count": null,
      "outputs": [
        {
          "output_type": "execute_result",
          "data": {
            "text/plain": [
              "array([[-1,  0],\n",
              "       [ 0,  1]])"
            ]
          },
          "metadata": {},
          "execution_count": 8
        }
      ]
    },
    {
      "cell_type": "code",
      "source": [
        "y_ref = np.dot(F,x)\n",
        "plotVectors([x,y_ref],['lightblue','blue'])\n",
        "plt.xlim(-5, 5)\n",
        "plt.ylim(-1, 5)"
      ],
      "metadata": {
        "colab": {
          "base_uri": "https://localhost:8080/",
          "height": 286
        },
        "id": "X17DzsSwMk3s",
        "outputId": "21ec3520-f6e2-415a-90ff-5241a59d9c40"
      },
      "execution_count": null,
      "outputs": [
        {
          "output_type": "execute_result",
          "data": {
            "text/plain": [
              "(-1.0, 5.0)"
            ]
          },
          "metadata": {},
          "execution_count": 9
        },
        {
          "output_type": "display_data",
          "data": {
            "image/png": "[encoded data removed]",
            "text/plain": [
              "<Figure size 432x288 with 1 Axes>"
            ]
          },
          "metadata": {
            "needs_background": "light"
          }
        }
      ]
    },
    {
      "cell_type": "markdown",
      "source": [
        "Concatenate several vectors together into a matrix, where each column is a separate vector. Then, whatever linear transformations we apply to the matrix will be independently applied to each column (vector): "
      ],
      "metadata": {
        "id": "RTSPbm0GU6yP"
      }
    },
    {
      "cell_type": "code",
      "source": [
        "v1 = np.array([2,3])\n",
        "v2 = np.array([7,1])\n",
        "v3 = np.array([3,7])"
      ],
      "metadata": {
        "id": "JvPmGZavQL2U"
      },
      "execution_count": null,
      "outputs": []
    },
    {
      "cell_type": "code",
      "source": [
        "V = np.concatenate((np.matrix(v1).T,np.matrix(v2).T,np.matrix(v3).T),axis=1)\n",
        "V"
      ],
      "metadata": {
        "colab": {
          "base_uri": "https://localhost:8080/"
        },
        "id": "tKEG_NidVdQ3",
        "outputId": "5e1310c9-7779-4712-9543-8bf31fca51b2"
      },
      "execution_count": null,
      "outputs": [
        {
          "output_type": "execute_result",
          "data": {
            "text/plain": [
              "matrix([[2, 7, 3],\n",
              "        [3, 1, 7]])"
            ]
          },
          "metadata": {},
          "execution_count": 11
        }
      ]
    },
    {
      "cell_type": "code",
      "source": [
        "B = np.array([[2,5],[-6,1]])\n",
        "B"
      ],
      "metadata": {
        "colab": {
          "base_uri": "https://localhost:8080/"
        },
        "id": "yB5eByk1YjzP",
        "outputId": "7d0876b6-2e30-46a4-9006-6fb54e00c4b6"
      },
      "execution_count": null,
      "outputs": [
        {
          "output_type": "execute_result",
          "data": {
            "text/plain": [
              "array([[ 2,  5],\n",
              "       [-6,  1]])"
            ]
          },
          "metadata": {},
          "execution_count": 12
        }
      ]
    },
    {
      "cell_type": "code",
      "source": [
        "def vectorify(matrix,column):\n",
        "  return np.array(matrix[:,column]).reshape(-1)"
      ],
      "metadata": {
        "id": "butoCcYbVuvp"
      },
      "execution_count": null,
      "outputs": []
    },
    {
      "cell_type": "code",
      "source": [
        "vectorify(V,0)"
      ],
      "metadata": {
        "colab": {
          "base_uri": "https://localhost:8080/"
        },
        "id": "I6EG0JBCXgaw",
        "outputId": "a7d7496f-da31-4411-9f04-c9a1036df721"
      },
      "execution_count": null,
      "outputs": [
        {
          "output_type": "execute_result",
          "data": {
            "text/plain": [
              "array([2, 3])"
            ]
          },
          "metadata": {},
          "execution_count": 14
        }
      ]
    },
    {
      "cell_type": "code",
      "source": [
        "BV = np.dot(B,V)\n",
        "BV"
      ],
      "metadata": {
        "colab": {
          "base_uri": "https://localhost:8080/"
        },
        "id": "YmM2wkPrXj5b",
        "outputId": "8636ff89-52b5-4de3-fc3b-ca6a1caaa3f5"
      },
      "execution_count": null,
      "outputs": [
        {
          "output_type": "execute_result",
          "data": {
            "text/plain": [
              "matrix([[ 19,  19,  41],\n",
              "        [ -9, -41, -11]])"
            ]
          },
          "metadata": {},
          "execution_count": 15
        }
      ]
    },
    {
      "cell_type": "code",
      "source": [
        "plotVectors([vectorify(V,0),vectorify(V,1),vectorify(V,2),\n",
        "             vectorify(BV,0),vectorify(BV,1),vectorify(BV,2)],\n",
        "            ['lightblue','lightgreen','pink',\n",
        "             'blue','green','red'])\n",
        "plt.xlim(-1, 55)\n",
        "_ = plt.ylim(-45, 8)"
      ],
      "metadata": {
        "colab": {
          "base_uri": "https://localhost:8080/",
          "height": 265
        },
        "id": "n9gbWB2CZOCJ",
        "outputId": "cb1cf55e-38c8-434f-8804-1db856bffb1f"
      },
      "execution_count": null,
      "outputs": [
        {
          "output_type": "display_data",
          "data": {
            "image/png": "[encoded data removed]",
            "text/plain": [
              "<Figure size 432x288 with 1 Axes>"
            ]
          },
          "metadata": {
            "needs_background": "light"
          }
        }
      ]
    },
    {
      "cell_type": "markdown",
      "source": [
        "## Eigenvectors and Eigenvalues"
      ],
      "metadata": {
        "id": "kwb9bf8hnKIe"
      }
    },
    {
      "cell_type": "code",
      "source": [
        "A = np.array([[-1,4],[2,-2]])"
      ],
      "metadata": {
        "id": "_FvE7HUDnPsl"
      },
      "execution_count": null,
      "outputs": []
    },
    {
      "cell_type": "code",
      "source": [
        "lambdas, V = np.linalg.eig(A)"
      ],
      "metadata": {
        "id": "N9ww3jBjn8p9"
      },
      "execution_count": null,
      "outputs": []
    },
    {
      "cell_type": "code",
      "source": [
        "V"
      ],
      "metadata": {
        "colab": {
          "base_uri": "https://localhost:8080/"
        },
        "id": "ZrgEziDzoMO6",
        "outputId": "52e36ba5-9c97-43de-dcaf-527292f17392"
      },
      "execution_count": null,
      "outputs": [
        {
          "output_type": "execute_result",
          "data": {
            "text/plain": [
              "array([[ 0.86011126, -0.76454754],\n",
              "       [ 0.51010647,  0.64456735]])"
            ]
          },
          "metadata": {},
          "execution_count": 19
        }
      ]
    },
    {
      "cell_type": "code",
      "source": [
        "lambdas"
      ],
      "metadata": {
        "colab": {
          "base_uri": "https://localhost:8080/"
        },
        "id": "T6DFk4RLoNv5",
        "outputId": "6d3dd343-084e-45cd-df7a-acba8fd9217d"
      },
      "execution_count": null,
      "outputs": [
        {
          "output_type": "execute_result",
          "data": {
            "text/plain": [
              "array([ 1.37228132, -4.37228132])"
            ]
          },
          "metadata": {},
          "execution_count": 20
        }
      ]
    },
    {
      "cell_type": "code",
      "source": [
        "Av1 = np.dot(A,V[:,0])\n",
        "Av2 = np.dot(A,V[:,1])"
      ],
      "metadata": {
        "id": "rew-Fm4DoPPP"
      },
      "execution_count": null,
      "outputs": []
    },
    {
      "cell_type": "code",
      "source": [
        "plotVectors([Av1,V[:,0],Av2,V[:,1]],['red','pink','green','lightgreen'])\n",
        "plt.xlim(-1,4)\n",
        "plt.ylim(-3,1)"
      ],
      "metadata": {
        "colab": {
          "base_uri": "https://localhost:8080/",
          "height": 286
        },
        "id": "K_S1xYOfoz65",
        "outputId": "aedb296c-df70-432a-970a-c9cf69f51e30"
      },
      "execution_count": null,
      "outputs": [
        {
          "output_type": "execute_result",
          "data": {
            "text/plain": [
              "(-3.0, 1.0)"
            ]
          },
          "metadata": {},
          "execution_count": 37
        },
        {
          "output_type": "display_data",
          "data": {
            "image/png": "[encoded data removed]",
            "text/plain": [
              "<Figure size 432x288 with 1 Axes>"
            ]
          },
          "metadata": {
            "needs_background": "light"
          }
        }
      ]
    },
    {
      "cell_type": "code",
      "source": [
        "B = torch.tensor([[4,-3],[6,2.]])"
      ],
      "metadata": {
        "id": "TD6niIcppGUe"
      },
      "execution_count": null,
      "outputs": []
    },
    {
      "cell_type": "code",
      "source": [
        "eigens = torch.eig(B,eigenvectors=True)\n",
        "eigens"
      ],
      "metadata": {
        "colab": {
          "base_uri": "https://localhost:8080/"
        },
        "id": "Bdke20Mork63",
        "outputId": "586b049a-5c15-4e78-d4c0-15138079255a"
      },
      "execution_count": null,
      "outputs": [
        {
          "output_type": "execute_result",
          "data": {
            "text/plain": [
              "torch.return_types.eig(eigenvalues=tensor([[ 3.0000,  4.1231],\n",
              "        [ 3.0000, -4.1231]]), eigenvectors=tensor([[0.1361, 0.5611],\n",
              "        [0.8165, 0.0000]]))"
            ]
          },
          "metadata": {},
          "execution_count": 46
        }
      ]
    }
  ]
}